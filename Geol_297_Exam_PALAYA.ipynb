{
  "nbformat": 4,
  "nbformat_minor": 0,
  "metadata": {
    "colab": {
      "provenance": []
    },
    "kernelspec": {
      "name": "python3",
      "display_name": "Python 3"
    },
    "language_info": {
      "name": "python"
    }
  },
  "cells": [
    {
      "cell_type": "markdown",
      "source": [
        "# Coding task (50 points)\n",
        "\n",
        "## Introduction\n",
        "GPS is used to track the movement not only of your phones and vehicles, but also of tectonic plates. For this part of the exam, you will need to estimate the horizontal velocity/velocity vector (i.e., speed and direction) of the GPS station in Taguig City, which is part of an international network of GPS/GNSS stations.  This will give you an idea of the motion of southern Luzon island relative to the [international reference frame](https://spotlight.unavco.org/how-gps-works/gps-basics/gps-reference-frames.html).\n",
        "\n",
        "The dataset includes the time (in Year-time ISO8601 format), the 2nd to 4th column the difference in position (in meters) in the north, east, and up position relative to the reference location at each time step, and 5th-6th columns are their respective standard deviations.  Note that speed is simply displacement over time (i.e., the slope of a distance over time graph)... and for simplicity's sake, we will assume constant velocity for the time coverage of the data (2015 to 2022) and ignore seasonal and anomalous signals.\n",
        "\n",
        "You should accomplish this individually.  You can use any and all resources that is available to you, except that you must do this without consulting other humans, dead or alive, including your classmates.  But you can ask me (JD) questions.\n",
        "## Scoring\n",
        "\n",
        "The points system will be as follows:\n",
        "\n",
        "1. Successfully importing of position data from the text file (5 points)\n",
        "2. Displacement time-series plot of east position (10 points)\n",
        "3. Displacement time-series plot of north position (10 points)\n",
        "4. Estimation of eastward velocity *in cm/yr* from the data, supported by a plot (5 points)\n",
        "5. Estimation of northward velociity *in cm/yr* from the data, supported by a plot (5 points)\n",
        "6. Reasonable estimate of the velocity vector (speed in cm/yr and azimuth from north) (5 points)\n",
        "7. Readability of the code; code has some useful comments (10 points)\n",
        "\n",
        "In case you are not able to solve the whole task, partial points will be given for pseudocode.\n",
        "\n",
        "## Expected output\n",
        "\n",
        "Minimum is an Jupyter/Python notebook containing output.  You can also submit PDFs or PNGs of any output.  Submit in the UVLe module where you got this script.\n",
        "\n",
        "This task should be doable in ~30 mins to 1 hour 20 minutes.  Maximum of 4 hours."
      ],
      "metadata": {
        "id": "djWcRgxvAnvV"
      }
    },
    {
      "cell_type": "markdown",
      "source": [
        "# Preparation\n",
        "Run the cell below to download the data file `wPTGG.txt`.  This file will contain some metadata about the dataset, and the columns of data that you will need, particularly Year (decimals indicate a fraction of a year), DN (displacement in the north direction in meters), DE (displacement in the East direction in meters).\n",
        "\n",
        "You do not need to account for DU (vertical displacement) and the standard deviations (SDN, SDE, and SDU).\n"
      ],
      "metadata": {
        "id": "dKDNBZf_D8tD"
      }
    },
    {
      "cell_type": "code",
      "source": [
        "# Run this cell to download the data file. After doing so, the file 'wPTGG.txt'\n",
        "# should appear in the file browser in the left panel (Folder icon). (It might)\n",
        "# take a minute\n",
        "!gdown 1RMjWUDbVX0SsNbApXsNqI1RSh9cHRhrx"
      ],
      "metadata": {
        "id": "VNs09nx4BB9W",
        "outputId": "7371291f-b142-48f7-c979-78ac53b64e10",
        "colab": {
          "base_uri": "https://localhost:8080/"
        }
      },
      "execution_count": null,
      "outputs": [
        {
          "output_type": "stream",
          "name": "stdout",
          "text": [
            "Downloading...\n",
            "From: https://drive.google.com/uc?id=1RMjWUDbVX0SsNbApXsNqI1RSh9cHRhrx\n",
            "To: /content/wPTGG.txt\n",
            "\r  0% 0.00/15.4k [00:00<?, ?B/s]\r100% 15.4k/15.4k [00:00<00:00, 39.7MB/s]\n"
          ]
        }
      ]
    },
    {
      "cell_type": "markdown",
      "source": [
        "# Solution"
      ],
      "metadata": {
        "id": "JTMYEuZ9FTzj"
      }
    },
    {
      "cell_type": "code",
      "source": [
        "#Importing required modules\n",
        "\n",
        "import pandas as pd\n",
        "import numpy as np\n",
        "import matplotlib.pyplot as plt"
      ],
      "metadata": {
        "id": "4OJ4qPOOApcU"
      },
      "execution_count": null,
      "outputs": []
    },
    {
      "cell_type": "code",
      "source": [
        "#Importing text file data\n",
        "\n",
        "from google.colab import drive\n",
        "\n",
        "#Mounting my google drive\n",
        "#drive.mount('/content/drive')\n",
        "#!ls '/content/drive/My Drive\n",
        "\n",
        "#Loading data from text file\n",
        "file_path = '/content/drive/My Drive/wPTGG.txt'\n",
        "\n",
        "#Reading the text file\n",
        "with open(file_path, 'r') as file:\n",
        "  text = file.read()\n",
        "\n",
        "#Printing the text\n",
        "print(text)"
      ],
      "metadata": {
        "id": "CuhwCZDJFC4n",
        "collapsed": true,
        "outputId": "d1ce14ce-5d4f-4425-e6b6-1058e717f9f0",
        "colab": {
          "base_uri": "https://localhost:8080/"
        }
      },
      "execution_count": null,
      "outputs": [
        {
          "output_type": "stream",
          "name": "stdout",
          "text": [
            "# Site ID: PTGG\t\t\t\t\t\t\n",
            "# DOMES: 22006M006\t\t\t\t\t\t\n",
            "# File created: 2022-05-31T12:01:54\t\t\t\t\t\t\n",
            "# Analysis Centre: ULR Consortium\t\t\t\t\t\t\n",
            "# Solution code: ULR7\t\t\t\t\t\t\n",
            "# Datum: IGS14 (ellipsoid: GRS80)\t\t\t\t\t\t\n",
            "#\t\t\t\t\t\t\n",
            "# Reference epoch: 2010.9973\t\t\t\t\t\t\n",
            "# X :  -3184364.7266 +/- 0.0010 m      VX :   23.13 +/- 1.09 mm/yr\t\t\t\t\t\t\n",
            "# Y :   5291037.1020 +/- 0.0015 m      VY :   13.69 +/- 1.02 mm/yr\t\t\t\t\t\t\n",
            "# Z :   1590413.5441 +/- 0.0006 m      VZ :    6.03 +/- 0.45 mm/yr\t\t\t\t\t\t\n",
            "#\t\t\t\t\t\t\n",
            "# Latitude  :   14.53540204 degrees    VN :    5.88 +/- 0.39 mm/yr\t\t\t\t\t\t\n",
            "# Longitude :  121.04126673 degrees    VE :  -26.88 +/- 1.12 mm/yr\t\t\t\t\t\t\n",
            "# Height    :   84.8780 m              VU :    1.32 +/- 1.01 mm/yr\t\t\t\t\t\t\n",
            "#\t\t\t\t\t\t\n",
            "#\t\t\t\t\t\t\n",
            "# Note:\tFollowing position offsets have been estimated (but not removed) in the time series:\t\t\t\t\t\n",
            "# offset 2016.57240        2.1        4.7        0.7    None\t\t\t\t\t\t\n",
            "# offset 2018.12190       -3.8        1.6       -1.0    None\t\t\t\t\t\t\n",
            "#\t\t\t\t\t\t\n",
            "Year\tDN(m)\tDE(m)\tDU(m)\tSDN\tSDE\tSDU\n",
            "2015.2397\t0.0571\t-0.2742\t0.0113\t0.0021\t0.0026\t0.0074\n",
            "2015.2589\t0.0589\t-0.2755\t0.0292\t0.0027\t0.0032\t0.0106\n",
            "2015.2781\t0.0577\t-0.2797\t0.0219\t0.0022\t0.0025\t0.0077\n",
            "2015.2973\t0.0581\t-0.2744\t0.0187\t0.0022\t0.0026\t0.0078\n",
            "2015.3164\t0.0558\t-0.2789\t0.0194\t0.0023\t0.003\t0.009\n",
            "2015.3356\t0.0586\t-0.2798\t0.0265\t0.0023\t0.0028\t0.0085\n",
            "2015.3548\t0.0607\t-0.2814\t0.0251\t0.0022\t0.0032\t0.0087\n",
            "2015.374\t0.0621\t-0.2841\t0.0214\t0.0026\t0.0033\t0.0104\n",
            "2015.3932\t0.0577\t-0.2834\t0.0143\t0.0025\t0.003\t0.01\n",
            "2015.4123\t0.0596\t-0.2853\t0.0253\t0.0027\t0.0034\t0.011\n",
            "2015.4315\t0.0569\t-0.284\t0.0268\t0.0022\t0.0031\t0.0087\n",
            "2015.4507\t0.0594\t-0.2844\t0.0159\t0.0024\t0.0029\t0.0094\n",
            "2015.4699\t0.0604\t-0.2892\t0.0154\t0.0021\t0.0027\t0.0077\n",
            "2015.5082\t0.0602\t-0.2899\t0.0255\t0.0028\t0.0034\t0.0115\n",
            "2015.5274\t0.0649\t-0.2896\t0.01\t0.0025\t0.003\t0.0097\n",
            "2015.5466\t0.0616\t-0.2905\t0.0124\t0.002\t0.0023\t0.0068\n",
            "2015.5658\t0.0637\t-0.2922\t0.0141\t0.0024\t0.0028\t0.0092\n",
            "2015.5849\t0.0642\t-0.2921\t0.0317\t0.0026\t0.0031\t0.0099\n",
            "2015.6041\t0.0645\t-0.2959\t0.0294\t0.0028\t0.0033\t0.011\n",
            "2015.6233\t0.0653\t-0.2918\t0.0199\t0.0025\t0.0031\t0.0102\n",
            "2015.6425\t0.0637\t-0.295\t0.0088\t0.0023\t0.0028\t0.0088\n",
            "2015.6616\t0.0669\t-0.2982\t0.0202\t0.0025\t0.0031\t0.0094\n",
            "2015.6808\t0.065\t-0.2948\t0.0197\t0.0026\t0.0032\t0.0103\n",
            "2015.7\t0.065\t-0.2994\t0.013\t0.0024\t0.0031\t0.0092\n",
            "2015.7192\t0.0609\t-0.3033\t0.0069\t0.003\t0.0038\t0.0128\n",
            "2015.7384\t0.067\t-0.3039\t0.0196\t0.0025\t0.0033\t0.0102\n",
            "2015.7575\t0.0686\t-0.3004\t0.004\t0.0028\t0.0036\t0.0117\n",
            "2015.7767\t0.0658\t-0.3031\t0.0069\t0.0029\t0.0038\t0.012\n",
            "2015.7959\t0.0668\t-0.3012\t0.0326\t0.0026\t0.0032\t0.0105\n",
            "2015.8151\t0.0657\t-0.3052\t0.0258\t0.0022\t0.0029\t0.0083\n",
            "2015.8342\t0.0655\t-0.3037\t0.0228\t0.0023\t0.0029\t0.0088\n",
            "2015.8534\t0.0671\t-0.3061\t0.0331\t0.0027\t0.0033\t0.0109\n",
            "2015.8726\t0.0672\t-0.3058\t0.0355\t0.0033\t0.0038\t0.0133\n",
            "2015.8918\t0.0662\t-0.3084\t0.0108\t0.0023\t0.003\t0.0088\n",
            "2015.911\t0.0668\t-0.3094\t0.0241\t0.0025\t0.0031\t0.0096\n",
            "2015.9301\t0.0672\t-0.3111\t0.0206\t0.002\t0.0026\t0.0074\n",
            "2015.9493\t0.0671\t-0.3135\t0.0201\t0.0026\t0.0033\t0.0109\n",
            "2015.9685\t0.0673\t-0.3129\t0.0162\t0.0029\t0.0038\t0.0122\n",
            "2015.9877\t0.069\t-0.3132\t0.0247\t0.0019\t0.0024\t0.0072\n",
            "2016.0068\t0.0672\t-0.3132\t0.0182\t0.0021\t0.0026\t0.0078\n",
            "2016.026\t0.0682\t-0.3153\t0.0172\t0.0019\t0.0023\t0.0068\n",
            "2016.0833\t0.0699\t-0.32\t0.0235\t0.0026\t0.003\t0.0102\n",
            "2016.1025\t0.0692\t-0.3173\t0.0196\t0.002\t0.0025\t0.0068\n",
            "2016.1216\t0.0678\t-0.3199\t0.022\t0.0021\t0.0025\t0.0073\n",
            "2016.1407\t0.0652\t-0.3192\t0.0219\t0.0022\t0.0027\t0.0083\n",
            "2016.1598\t0.0689\t-0.3252\t0.0188\t0.002\t0.0024\t0.0072\n",
            "2016.179\t0.0697\t-0.3229\t0.014\t0.0021\t0.0025\t0.0079\n",
            "2016.1981\t0.071\t-0.3262\t0.0224\t0.0021\t0.0027\t0.0073\n",
            "2016.2172\t0.0716\t-0.3285\t0.0247\t0.0024\t0.0031\t0.0089\n",
            "2016.2363\t0.0638\t-0.3264\t0.0284\t0.0026\t0.0037\t0.0094\n",
            "2016.2555\t0.0689\t-0.3309\t0.0145\t0.0026\t0.0034\t0.0097\n",
            "2016.2746\t0.067\t-0.3309\t0.0285\t0.0023\t0.0029\t0.008\n",
            "2016.2937\t0.0702\t-0.3323\t0.0287\t0.0025\t0.003\t0.0091\n",
            "2016.3128\t0.0706\t-0.333\t0.0142\t0.0024\t0.0032\t0.0083\n",
            "2016.332\t0.0715\t-0.3303\t0.0134\t0.0022\t0.0029\t0.0074\n",
            "2016.3511\t0.0694\t-0.3328\t0.0036\t0.0026\t0.0034\t0.0098\n",
            "2016.3702\t0.07\t-0.335\t0.0246\t0.0023\t0.0027\t0.0082\n",
            "2016.4085\t0.0728\t-0.3365\t0.0158\t0.0026\t0.0032\t0.0102\n",
            "2016.4276\t0.071\t-0.3324\t0.0157\t0.0028\t0.0035\t0.0109\n",
            "2016.4467\t0.074\t-0.334\t0.0187\t0.0026\t0.0033\t0.0108\n",
            "2016.4658\t0.0728\t-0.3389\t0.0183\t0.0024\t0.0029\t0.0086\n",
            "2016.485\t0.0734\t-0.3385\t0.0162\t0.0024\t0.0029\t0.0092\n",
            "2016.5041\t0.0724\t-0.341\t0.0261\t0.0024\t0.0028\t0.009\n",
            "2016.5232\t0.0743\t-0.3394\t0.0246\t0.0021\t0.0026\t0.0079\n",
            "2016.5615\t0.0724\t-0.3458\t0.0282\t0.0025\t0.0031\t0.0094\n",
            "2016.5806\t0.0776\t-0.3336\t0.0232\t0.0028\t0.0032\t0.0108\n",
            "2016.5997\t0.079\t-0.3351\t0.0257\t0.0023\t0.0029\t0.0085\n",
            "2016.6189\t0.0812\t-0.3373\t0.0155\t0.0027\t0.0031\t0.0104\n",
            "2016.638\t0.0804\t-0.338\t0.0153\t0.0022\t0.0027\t0.008\n",
            "2016.6571\t0.0817\t-0.3387\t0.0223\t0.0024\t0.0029\t0.0093\n",
            "2016.6762\t0.0816\t-0.34\t0.0208\t0.0024\t0.0031\t0.0093\n",
            "2016.6954\t0.0821\t-0.3388\t0.0324\t0.0025\t0.003\t0.0093\n",
            "2016.7145\t0.0803\t-0.3417\t0.0233\t0.0019\t0.0023\t0.0065\n",
            "2016.7336\t0.082\t-0.3473\t0.0255\t0.0028\t0.0035\t0.0114\n",
            "2016.7527\t0.0818\t-0.3438\t0.0132\t0.0023\t0.0028\t0.0088\n",
            "2016.7719\t0.0827\t-0.343\t0.0251\t0.002\t0.0024\t0.0075\n",
            "2016.791\t0.0829\t-0.3451\t0.0212\t0.0022\t0.0027\t0.0087\n",
            "2016.8101\t0.0831\t-0.3433\t0.0149\t0.0025\t0.0029\t0.0099\n",
            "2016.8292\t0.0826\t-0.3489\t0.0231\t0.0029\t0.0034\t0.0119\n",
            "2016.8484\t0.0833\t-0.3449\t0.0155\t0.0022\t0.0026\t0.0086\n",
            "2016.8675\t0.0831\t-0.3506\t0.0232\t0.0023\t0.0027\t0.0092\n",
            "2016.8866\t0.0833\t-0.3491\t0.0154\t0.0023\t0.0026\t0.0085\n",
            "2016.9057\t0.0815\t-0.35\t0.027\t0.002\t0.0025\t0.0076\n",
            "2016.9249\t0.0844\t-0.3507\t0.0154\t0.0029\t0.0035\t0.0117\n",
            "2016.944\t0.0856\t-0.3521\t0.0221\t0.0019\t0.0023\t0.0068\n",
            "2017.0589\t0.0848\t-0.3536\t0.0196\t0.0023\t0.0032\t0.0097\n",
            "2017.0781\t0.0861\t-0.3567\t0.025\t0.0019\t0.0023\t0.0059\n",
            "2017.0973\t0.084\t-0.3577\t0.0261\t0.0018\t0.0024\t0.0063\n",
            "2017.1164\t0.086\t-0.3595\t0.0238\t0.0018\t0.0023\t0.0059\n",
            "2017.1356\t0.0843\t-0.3627\t0.0195\t0.0018\t0.0026\t0.0063\n",
            "2017.1548\t0.0882\t-0.3603\t0.0284\t0.0023\t0.0028\t0.0089\n",
            "2017.174\t0.0844\t-0.3619\t0.0252\t0.0019\t0.0025\t0.0067\n",
            "2017.1932\t0.0847\t-0.36\t0.0365\t0.0021\t0.0027\t0.0072\n",
            "2017.2123\t0.0825\t-0.3635\t0.0226\t0.0023\t0.0031\t0.0082\n",
            "2017.2315\t0.0859\t-0.3645\t0.0211\t0.002\t0.0025\t0.0069\n",
            "2017.2507\t0.0859\t-0.3682\t0.0246\t0.002\t0.0025\t0.0071\n",
            "2017.2699\t0.0857\t-0.3632\t0.0215\t0.0026\t0.0035\t0.0105\n",
            "2017.289\t0.0833\t-0.3722\t0.0207\t0.0022\t0.0027\t0.0085\n",
            "2017.3082\t0.0892\t-0.3732\t0.0234\t0.0034\t0.0043\t0.0139\n",
            "2017.3274\t0.0815\t-0.376\t0.0123\t0.0025\t0.0031\t0.0092\n",
            "2017.3466\t0.0838\t-0.374\t0.0171\t0.0023\t0.0029\t0.009\n",
            "2017.3658\t0.0839\t-0.3775\t0.0334\t0.0021\t0.0027\t0.0079\n",
            "2017.3849\t0.085\t-0.3701\t0.0318\t0.0022\t0.0029\t0.0085\n",
            "2017.4041\t0.0873\t-0.3755\t0.0138\t0.0028\t0.0037\t0.0117\n",
            "2017.4233\t0.0878\t-0.3759\t0.0132\t0.0026\t0.0032\t0.0104\n",
            "2017.4425\t0.0869\t-0.3774\t0.0282\t0.0023\t0.0028\t0.0084\n",
            "2017.4616\t0.0869\t-0.3753\t0.0174\t0.0026\t0.0033\t0.0106\n",
            "2017.4808\t0.0874\t-0.3771\t0.0264\t0.0028\t0.0034\t0.0109\n",
            "2017.5\t0.0895\t-0.3771\t0.0312\t0.0027\t0.0036\t0.0102\n",
            "2017.5192\t0.0876\t-0.3831\t0.027\t0.0023\t0.0028\t0.0086\n",
            "2017.5384\t0.09\t-0.379\t0.0243\t0.0021\t0.0025\t0.0069\n",
            "2017.5575\t0.0904\t-0.3816\t0.0301\t0.0024\t0.0028\t0.0084\n",
            "2017.5767\t0.089\t-0.3802\t0.0231\t0.0025\t0.0033\t0.0101\n",
            "2017.5959\t0.0901\t-0.3836\t0.0177\t0.002\t0.0025\t0.0072\n",
            "2017.6151\t0.0892\t-0.3811\t0.0229\t0.002\t0.0025\t0.0073\n",
            "2017.6342\t0.092\t-0.3879\t0.0236\t0.0025\t0.0033\t0.0102\n",
            "2017.6534\t0.0917\t-0.3895\t0.0213\t0.0021\t0.0027\t0.0081\n",
            "2017.6726\t0.0895\t-0.3905\t0.0291\t0.0022\t0.0026\t0.0076\n",
            "2017.6918\t0.0912\t-0.3886\t0.0186\t0.0026\t0.0034\t0.0107\n",
            "2017.711\t0.0907\t-0.3949\t0.0322\t0.0025\t0.0034\t0.0102\n",
            "2017.7301\t0.0921\t-0.3943\t0.0206\t0.0024\t0.0033\t0.0092\n",
            "2017.7493\t0.0923\t-0.3951\t0.0214\t0.0021\t0.0026\t0.0078\n",
            "2017.7685\t0.0935\t-0.3968\t0.0234\t0.002\t0.0025\t0.0078\n",
            "2017.7877\t0.0959\t-0.3966\t0.0272\t0.0021\t0.0025\t0.0078\n",
            "2017.8068\t0.0904\t-0.3964\t0.0172\t0.0023\t0.003\t0.0094\n",
            "2017.826\t0.0866\t-0.396\t0.0204\t0.0035\t0.0039\t0.0158\n",
            "2018.1329\t0.0868\t-0.4116\t0.0277\t0.0023\t0.003\t0.0091\n",
            "2018.1521\t0.0908\t-0.4149\t0.0331\t0.0022\t0.0027\t0.0078\n",
            "2018.1904\t0.0871\t-0.4125\t0.032\t0.002\t0.0024\t0.0072\n",
            "2018.2096\t0.0877\t-0.4156\t0.0286\t0.002\t0.0026\t0.0067\n",
            "2018.2288\t0.0867\t-0.4188\t0.0295\t0.0019\t0.0024\t0.0065\n",
            "2018.2479\t0.0869\t-0.4186\t0.0308\t0.0019\t0.0023\t0.0066\n",
            "2018.2671\t0.0876\t-0.4209\t0.0259\t0.0019\t0.0025\t0.0065\n",
            "2018.2863\t0.0918\t-0.4242\t0.0387\t0.0024\t0.0031\t0.0096\n",
            "2018.3055\t0.088\t-0.4223\t0.0298\t0.0028\t0.0036\t0.0108\n",
            "2018.3247\t0.0896\t-0.4241\t0.0362\t0.0024\t0.003\t0.0093\n",
            "2018.3438\t0.0907\t-0.4243\t0.0254\t0.0025\t0.0035\t0.0101\n",
            "2018.3822\t0.0911\t-0.4268\t0.0295\t0.0025\t0.0031\t0.0094\n",
            "2018.4014\t0.0888\t-0.4284\t0.0341\t0.0026\t0.0034\t0.0102\n",
            "2018.4205\t0.0896\t-0.4289\t0.0354\t0.0023\t0.0032\t0.0087\n",
            "2018.4397\t0.0919\t-0.4301\t0.0208\t0.0023\t0.0029\t0.0091\n",
            "2018.4589\t0.0934\t-0.4328\t0.0185\t0.0026\t0.0033\t0.0098\n",
            "2018.4781\t0.0914\t-0.4308\t0.0142\t0.0029\t0.0037\t0.0117\n",
            "2018.4973\t0.0955\t-0.4349\t0.0263\t0.0025\t0.0032\t0.0093\n",
            "2018.5164\t0.0936\t-0.4307\t0.028\t0.0023\t0.0029\t0.0085\n",
            "2018.5356\t0.0918\t-0.4325\t0.0249\t0.0024\t0.0032\t0.0092\n",
            "2018.5548\t0.0943\t-0.4326\t0.0228\t0.0028\t0.004\t0.0115\n",
            "2018.574\t0.0938\t-0.4313\t0.0119\t0.0023\t0.0029\t0.0083\n",
            "2018.5932\t0.0949\t-0.4377\t0.0316\t0.002\t0.0025\t0.0071\n",
            "2018.6123\t0.0931\t-0.4347\t0.0219\t0.0031\t0.0044\t0.013\n",
            "2018.6315\t0.0942\t-0.4402\t0.021\t0.0021\t0.0027\t0.0081\n",
            "2018.6507\t0.0926\t-0.4389\t0.0203\t0.0019\t0.0026\t0.0067\n",
            "2018.6699\t0.0936\t-0.4435\t0.0273\t0.0022\t0.0028\t0.0083\n",
            "2018.689\t0.0953\t-0.4407\t0.0207\t0.0019\t0.0024\t0.0065\n",
            "2018.7082\t0.0955\t-0.4403\t0.013\t0.002\t0.0024\t0.0071\n",
            "2018.7274\t0.0985\t-0.4467\t0.0304\t0.0033\t0.0043\t0.0138\n",
            "2018.7466\t0.0956\t-0.4425\t0.0209\t0.0018\t0.0022\t0.0061\n",
            "2018.7658\t0.0913\t-0.4458\t0.0299\t0.0023\t0.0027\t0.0085\n",
            "2018.7849\t0.0928\t-0.4464\t0.0318\t0.0025\t0.0027\t0.0089\n",
            "2018.8041\t0.0969\t-0.4452\t0.026\t0.002\t0.0023\t0.007\n",
            "2018.8233\t0.0964\t-0.4468\t0.019\t0.0026\t0.0031\t0.01\n",
            "2018.8425\t0.0978\t-0.4503\t0.0289\t0.0025\t0.0031\t0.0097\n",
            "2018.8616\t0.0989\t-0.4529\t0.0358\t0.002\t0.0023\t0.0068\n",
            "2018.8808\t0.0969\t-0.4501\t0.0316\t0.0031\t0.0037\t0.0123\n",
            "2018.9\t0.0954\t-0.4528\t0.0276\t0.0021\t0.0025\t0.0075\n",
            "2018.9192\t0.0964\t-0.4515\t0.0325\t0.0025\t0.003\t0.0091\n",
            "2018.9384\t0.093\t-0.4523\t0.0387\t0.003\t0.0035\t0.012\n",
            "2018.9575\t0.0976\t-0.4543\t0.0281\t0.0021\t0.0025\t0.0075\n",
            "2018.9767\t0.0995\t-0.4561\t0.0256\t0.0021\t0.0025\t0.0075\n",
            "2018.9959\t0.1008\t-0.4566\t0.0241\t0.0031\t0.0041\t0.013\n",
            "2019.0151\t0.0999\t-0.4577\t0.0404\t0.002\t0.0024\t0.007\n",
            "2019.0342\t0.0952\t-0.4559\t0.0258\t0.0019\t0.0021\t0.006\n",
            "2019.0534\t0.0987\t-0.4572\t0.0366\t0.0021\t0.0025\t0.0078\n",
            "2019.0726\t0.0969\t-0.46\t0.0276\t0.0017\t0.0021\t0.0055\n",
            "2019.0918\t0.1011\t-0.4643\t0.0272\t0.002\t0.0022\t0.0068\n",
            "2019.111\t0.0986\t-0.4645\t0.0267\t0.0031\t0.0033\t0.0115\n",
            "2019.1301\t0.0977\t-0.4634\t0.0307\t0.002\t0.0021\t0.0057\n",
            "2019.1493\t0.0984\t-0.4667\t0.0377\t0.002\t0.0021\t0.0065\n",
            "2019.1685\t0.0976\t-0.4641\t0.0354\t0.0019\t0.0021\t0.006\n",
            "2019.1877\t0.0976\t-0.4679\t0.0205\t0.0024\t0.0026\t0.0082\n",
            "2019.2068\t0.0954\t-0.4682\t0.0263\t0.0025\t0.0026\t0.0077\n",
            "2019.226\t0.0979\t-0.4732\t0.0362\t0.0021\t0.0024\t0.0073\n",
            "2019.2452\t0.1007\t-0.4721\t0.0303\t0.0021\t0.0023\t0.0071\n",
            "2019.2644\t0.0962\t-0.4712\t0.0402\t0.0022\t0.0026\t0.0082\n",
            "2019.2836\t0.1008\t-0.4757\t0.035\t0.0022\t0.0027\t0.0078\n",
            "2019.3027\t0.1012\t-0.4712\t0.0298\t0.0022\t0.0027\t0.0086\n",
            "2019.3219\t0.1003\t-0.4739\t0.035\t0.0024\t0.0027\t0.0088\n",
            "2019.3411\t0.0975\t-0.4747\t0.0281\t0.0025\t0.0028\t0.0093\n",
            "2019.3603\t0.1012\t-0.4748\t0.0466\t0.0026\t0.003\t0.0096\n",
            "2019.3795\t0.0958\t-0.4781\t0.0302\t0.0032\t0.0039\t0.0127\n",
            "2019.3986\t0.1037\t-0.4804\t0.0364\t0.0023\t0.0028\t0.0091\n",
            "2019.4178\t0.1007\t-0.4787\t0.034\t0.0023\t0.0028\t0.009\n",
            "2019.437\t0.103\t-0.4796\t0.036\t0.0028\t0.0035\t0.0109\n",
            "2019.4562\t0.1031\t-0.4829\t0.0316\t0.0033\t0.0042\t0.0136\n",
            "2019.4945\t0.1024\t-0.4856\t0.0271\t0.0026\t0.0031\t0.0098\n",
            "2019.5137\t0.1069\t-0.4846\t0.0359\t0.0027\t0.0034\t0.011\n",
            "2019.5329\t0.1032\t-0.4849\t0.0271\t0.0027\t0.0038\t0.0098\n",
            "2019.5521\t0.1028\t-0.4885\t0.032\t0.0024\t0.0029\t0.0086\n",
            "2019.5712\t0.1033\t-0.4899\t0.0344\t0.0024\t0.003\t0.0091\n",
            "2019.5904\t0.1082\t-0.492\t0.0264\t0.0025\t0.0032\t0.0093\n",
            "2019.6096\t0.1062\t-0.4951\t0.0357\t0.0022\t0.0025\t0.0077\n",
            "2019.6288\t0.1048\t-0.4935\t0.031\t0.0022\t0.0025\t0.0078\n",
            "2019.6479\t0.1091\t-0.4955\t0.0302\t0.0026\t0.0032\t0.0097\n",
            "2019.6671\t0.1071\t-0.4966\t0.0264\t0.0021\t0.0025\t0.0077\n",
            "2019.6863\t0.1087\t-0.4987\t0.0221\t0.0029\t0.0034\t0.0115\n",
            "2019.7055\t0.1093\t-0.5027\t0.0367\t0.0029\t0.0032\t0.0107\n",
            "2019.7247\t0.1083\t-0.5017\t0.022\t0.0018\t0.0021\t0.0064\n",
            "2019.7438\t0.1099\t-0.4996\t0.0306\t0.0029\t0.0033\t0.0112\n",
            "2019.763\t0.1112\t-0.5029\t0.0316\t0.0025\t0.0031\t0.0099\n",
            "2019.7822\t0.11\t-0.5035\t0.0262\t0.0024\t0.0029\t0.0093\n",
            "2019.8014\t0.1108\t-0.5042\t0.0236\t0.002\t0.0024\t0.0072\n",
            "2019.8205\t0.1109\t-0.5038\t0.0259\t0.0031\t0.0037\t0.0124\n",
            "2019.8397\t0.1102\t-0.5033\t0.0277\t0.0019\t0.0024\t0.007\n",
            "2019.8589\t0.1098\t-0.5084\t0.025\t0.0019\t0.0022\t0.0065\n",
            "2019.8781\t0.11\t-0.5066\t0.037\t0.002\t0.0026\t0.0077\n",
            "2019.8973\t0.1114\t-0.5064\t0.0338\t0.0026\t0.0033\t0.0106\n",
            "2019.9164\t0.1088\t-0.5116\t0.0352\t0.0019\t0.0023\t0.0065\n",
            "2019.9356\t0.1103\t-0.5101\t0.0274\t0.0019\t0.0023\t0.0059\n",
            "2019.9548\t0.1075\t-0.5088\t0.0357\t0.0032\t0.0039\t0.0134\n",
            "2019.974\t0.1114\t-0.511\t0.0324\t0.0023\t0.0028\t0.0082\n",
            "2019.9932\t0.1112\t-0.5123\t0.0422\t0.0023\t0.0027\t0.0083\n",
            "2020.0123\t0.1177\t-0.5131\t0.0351\t0.0021\t0.0029\t0.008\n",
            "2020.0314\t0.1109\t-0.5166\t0.029\t0.0025\t0.0028\t0.0091\n",
            "2020.0505\t0.1151\t-0.519\t0.0398\t0.002\t0.0025\t0.0068\n",
            "2020.0697\t0.1146\t-0.5202\t0.0438\t0.0019\t0.0023\t0.0063\n",
            "2020.0888\t0.1145\t-0.5237\t0.0359\t0.0018\t0.0022\t0.0055\n",
            "2020.1079\t0.1132\t-0.5231\t0.0377\t0.0017\t0.0021\t0.0053\n",
            "2020.127\t0.1128\t-0.5262\t0.0327\t0.0017\t0.0021\t0.0056\n",
            "2020.1462\t0.1131\t-0.5282\t0.0335\t0.0026\t0.0033\t0.0097\n",
            "2020.1653\t0.112\t-0.5255\t0.0403\t0.0018\t0.0023\t0.0059\n",
            "2020.1844\t0.1147\t-0.5282\t0.0409\t0.0021\t0.003\t0.0081\n",
            "2020.2036\t0.114\t-0.5345\t0.0361\t0.0023\t0.0027\t0.008\n",
            "2020.2227\t0.1155\t-0.5311\t0.0505\t0.0022\t0.0028\t0.0081\n",
            "2020.2418\t0.113\t-0.5383\t0.0358\t0.002\t0.0026\t0.0071\n",
            "2020.2609\t0.1129\t-0.5385\t0.0336\t0.0023\t0.0026\t0.0075\n",
            "2020.2801\t0.1143\t-0.537\t0.0392\t0.0021\t0.0026\t0.0075\n",
            "2020.2992\t0.1154\t-0.5343\t0.0424\t0.002\t0.0024\t0.0068\n",
            "2020.3183\t0.1138\t-0.5366\t0.0489\t0.0024\t0.0031\t0.0094\n",
            "2020.3374\t0.1152\t-0.5386\t0.0341\t0.0026\t0.0029\t0.0086\n",
            "2020.3566\t0.115\t-0.5386\t0.0339\t0.0031\t0.004\t0.0123\n",
            "2020.3757\t0.1164\t-0.5403\t0.0474\t0.0027\t0.0033\t0.0108\n",
            "2020.3948\t0.1164\t-0.5418\t0.0336\t0.002\t0.0026\t0.007\n",
            "2020.4139\t0.117\t-0.5408\t0.037\t0.0026\t0.0031\t0.0098\n",
            "2020.4331\t0.113\t-0.544\t0.0369\t0.0027\t0.0036\t0.011\n",
            "2020.4522\t0.1201\t-0.543\t0.0386\t0.0026\t0.0031\t0.0097\n",
            "2020.4713\t0.1178\t-0.5432\t0.0355\t0.0021\t0.0026\t0.0073\n",
            "2020.4904\t0.118\t-0.5461\t0.0356\t0.0022\t0.0028\t0.0078\n",
            "2020.5096\t0.1159\t-0.5442\t0.0332\t0.0022\t0.0029\t0.0082\n",
            "2020.5287\t0.1173\t-0.5491\t0.0248\t0.0033\t0.0038\t0.0115\n",
            "2020.5478\t0.1181\t-0.5478\t0.0322\t0.0026\t0.0034\t0.0086\n",
            "2020.5669\t0.1226\t-0.5503\t0.025\t0.0031\t0.0036\t0.01\n",
            "2020.6052\t0.118\t-0.5528\t0.0312\t0.0025\t0.0029\t0.009\n",
            "2020.6243\t0.1184\t-0.5556\t0.0449\t0.0024\t0.0028\t0.0082\n",
            "2020.6434\t0.1194\t-0.5505\t0.0307\t0.0019\t0.0024\t0.0065\n",
            "2020.6626\t0.1173\t-0.556\t0.0408\t0.0027\t0.0033\t0.0096\n",
            "2020.7008\t0.1197\t-0.555\t0.0437\t0.0019\t0.0023\t0.0067\n",
            "2020.7199\t0.118\t-0.558\t0.0378\t0.0028\t0.0034\t0.0108\n",
            "2020.7391\t0.119\t-0.5586\t0.0304\t0.0022\t0.0028\t0.0084\n",
            "2020.7582\t0.1224\t-0.5584\t0.0302\t0.0026\t0.0031\t0.0103\n",
            "2020.7773\t0.1219\t-0.5627\t0.0219\t0.0029\t0.0033\t0.0085\n",
            "2020.7964\t0.1245\t-0.566\t0.0248\t0.0027\t0.0031\t0.01\n",
            "2020.8156\t0.122\t-0.5635\t0.0247\t0.0027\t0.0035\t0.0106\n",
            "2020.8347\t0.12\t-0.5633\t0.0284\t0.0025\t0.0029\t0.009\n",
            "2020.8538\t0.1186\t-0.5677\t0.0274\t0.0022\t0.0028\t0.0081\n",
            "2020.873\t0.1191\t-0.5633\t0.0171\t0.0026\t0.0033\t0.0094\n",
            "2020.8921\t0.1215\t-0.57\t0.0426\t0.0031\t0.0042\t0.0127\n",
            "2020.9303\t0.1223\t-0.5663\t0.031\t0.0023\t0.0029\t0.0081\n",
            "2020.9495\t0.1256\t-0.569\t0.0258\t0.0022\t0.003\t0.0077\n",
            "2020.9686\t0.1237\t-0.5714\t0.0288\t0.002\t0.0024\t0.0068\n",
            "2020.9877\t0.119\t-0.5681\t0.0275\t0.0019\t0.0024\t0.0061\n",
            "\n"
          ]
        }
      ]
    },
    {
      "cell_type": "code",
      "source": [
        "#Loading and cleaning the data\n",
        "fp = '/content/drive/My Drive/wPTGG.txt'\n",
        "df = pd.read_csv(fp, sep='\\t', comment='#', header=0)\n",
        "\n",
        "#Extracting required columns\n",
        "df.columns = ['Year', 'DN(m)', 'DE(m)', 'DU(m)','SDN','SDE','SDU']\n",
        "\n",
        "df = df[pd.to_numeric(df['Year'], errors='coerce').notnull()] #Checking of 'Year' Column\n",
        "df['Year'] = df['Year'].astype(float) #Making sure Year column is all float types\n",
        "\n",
        "#Dropping NaN values in the columns\n",
        "df['DN(m)'] = pd.to_numeric(df['DN(m)'], errors='coerce')\n",
        "df['DE(m)'] = pd.to_numeric(df['DE(m)'], errors='coerce')\n",
        "df['DU(m)'] = pd.to_numeric(df['DU(m)'], errors='coerce')\n",
        "\n",
        "print(df.head())"
      ],
      "metadata": {
        "id": "rAbm2majDmJs",
        "outputId": "548e9aaf-d403-4c60-bc6f-02eeb1f0207b",
        "colab": {
          "base_uri": "https://localhost:8080/"
        }
      },
      "execution_count": null,
      "outputs": [
        {
          "output_type": "stream",
          "name": "stdout",
          "text": [
            "        Year   DN(m)   DE(m)   DU(m)     SDN     SDE     SDU\n",
            "0  2015.2397  0.0571 -0.2742  0.0113  0.0021  0.0026  0.0074\n",
            "1  2015.2589  0.0589 -0.2755  0.0292  0.0027  0.0032  0.0106\n",
            "2  2015.2781  0.0577 -0.2797  0.0219  0.0022  0.0025  0.0077\n",
            "3  2015.2973  0.0581 -0.2744  0.0187  0.0022  0.0026  0.0078\n",
            "4  2015.3164  0.0558 -0.2789  0.0194  0.0023  0.0030  0.0090\n"
          ]
        }
      ]
    },
    {
      "cell_type": "code",
      "source": [
        "#Converting date time to readable format\n",
        "\n",
        "from datetime import datetime, timedelta\n",
        "\n",
        "#Converting Fractional Year to datetime\n",
        "def fractional_year_to_datetime(year):\n",
        "  year_int = int(year)\n",
        "  year_frac = year - year_int\n",
        "\n",
        "  #Calculation of days in a year\n",
        "  days_in_year = 366 if (year_int % 4 == 0 and (year_int % 100 !=0 or year_int % 400 == 0)) else 365\n",
        "  days = year_frac * days_in_year\n",
        "\n",
        "  return datetime(year_int,1,1) + timedelta(days=days)\n",
        "\n",
        "df['Year'] = df['Year'].apply(fractional_year_to_datetime)\n",
        "print(df.head())\n"
      ],
      "metadata": {
        "id": "wTnqKszQGdi3",
        "outputId": "780dcbba-9088-46b9-a9a4-ed38528cd2ce",
        "colab": {
          "base_uri": "https://localhost:8080/"
        }
      },
      "execution_count": null,
      "outputs": [
        {
          "output_type": "stream",
          "name": "stdout",
          "text": [
            "                        Year   DN(m)   DE(m)   DU(m)     SDN     SDE     SDU\n",
            "0 2015-03-29 11:46:19.200003  0.0571 -0.2742  0.0113  0.0021  0.0026  0.0074\n",
            "1 2015-04-05 11:57:50.400001  0.0589 -0.2755  0.0292  0.0027  0.0032  0.0106\n",
            "2 2015-04-12 12:09:21.600000  0.0577 -0.2797  0.0219  0.0022  0.0025  0.0077\n",
            "3 2015-04-19 12:20:52.799998  0.0581 -0.2744  0.0187  0.0022  0.0026  0.0078\n",
            "4 2015-04-26 11:39:50.399998  0.0558 -0.2789  0.0194  0.0023  0.0030  0.0090\n"
          ]
        }
      ]
    },
    {
      "cell_type": "code",
      "source": [
        "#Computation of eastward and Northward velocity in cm/year\n",
        "meters_to_cm = 100\n",
        "\n",
        "#Eastward displacement\n",
        "time_span_years = df['Year'].iloc[-1].year - df['Year'].iloc[0].year  # Total time span in years\n",
        "total_east_displacement_m = df['DE(m)'].iloc[-1] - df['DE(m)'].iloc[0]  # Total east displacement in meters\n",
        "velocity_east_cm_per_year = (total_east_displacement_m * meters_to_cm) / time_span_years\n",
        "\n",
        "#Northward displacement\n",
        "total_north_displacement_m = df['DN(m)'].iloc[-1] - df['DN(m)'].iloc[0]  # Total north displacement in meters\n",
        "velocity_north_cm_per_year = (total_north_displacement_m * meters_to_cm) / time_span_years\n",
        "\n",
        "print(f'Eastward velocity in cm/year: {velocity_east_cm_per_year:.2f}')\n",
        "print(f'Northward velocity in cm/year: {velocity_north_cm_per_year:.2f}')\n",
        "\n",
        "#Plotting the east displacement and north displacement time-series\n",
        "import seaborn as sns\n",
        "sns.set_theme()\n",
        "sns.set_context('paper')\n",
        "sns.set_style('whitegrid')\n",
        "\n",
        "plt.figure(figsize=(10,6))\n",
        "plt.plot(df['Year'], df['DE(m)'], label='East Displacement (m)', linestyle = '-', color='blue') #East Displacement\n",
        "plt.plot(df['Year'], df['DN(m)'], label='North Displacement (m)', linestyle = '-', color='orange') #North Displacement\n",
        "\n",
        "#Plot properties\n",
        "plt.xlabel('Year', fontsize=12, fontweight = 'bold')\n",
        "plt.ylabel('Displacement (m)', fontsize=12, fontweight = 'bold')\n",
        "plt.title('Displacement Time-Series of Taguig City From 2015-2020', fontsize=14, fontweight='bold')\n",
        "plt.grid(True)\n",
        "[plt.xticks(rotation=45)]\n",
        "plt.legend()\n",
        "plt.savefig('/content/drive/MyDrive/displacement_time_series.png', dpi=300, bbox_inches='tight')\n",
        "plt.show()"
      ],
      "metadata": {
        "id": "ZNcBsG0TXiO-",
        "outputId": "7565a0f6-7d40-4e24-dbea-2b44eb8168da",
        "colab": {
          "base_uri": "https://localhost:8080/",
          "height": 623
        }
      },
      "execution_count": null,
      "outputs": [
        {
          "output_type": "stream",
          "name": "stdout",
          "text": [
            "Eastward velocity in cm/year: -5.88\n",
            "Northward velocity in cm/year: 1.24\n"
          ]
        },
        {
          "output_type": "display_data",
          "data": {
            "text/plain": [
              "<Figure size 1000x600 with 1 Axes>"
            ],
            "image/png": "[encoded data removed]"
          },
          "metadata": {}
        }
      ]
    },
    {
      "cell_type": "code",
      "source": [
        "#Computation of Velocity vector and Azimuth from north\n",
        "velocity_magnitude_cm_per_year = np.sqrt(velocity_east_cm_per_year**2 + velocity_north_cm_per_year**2)\n",
        "\n",
        "azimuth_deg = np.arctan2(velocity_east_cm_per_year, velocity_north_cm_per_year) * 180 / np.pi\n",
        "if azimuth_deg < 0:\n",
        "  azimuth_deg += 360\n",
        "\n",
        "print(f'Velocity Magnitude (cm/year): {velocity_magnitude_cm_per_year:.2f}')\n",
        "print(f'Azimuth from North (degrees): {azimuth_deg:.2f}')"
      ],
      "metadata": {
        "id": "Z_FAbHwPZ1sn",
        "outputId": "0873dac0-9fcc-4cbf-ec74-d58c081de72b",
        "colab": {
          "base_uri": "https://localhost:8080/"
        }
      },
      "execution_count": null,
      "outputs": [
        {
          "output_type": "stream",
          "name": "stdout",
          "text": [
            "Velocity Magnitude (cm/year): 6.01\n",
            "Azimuth from North (degrees): 281.89\n"
          ]
        }
      ]
    },
    {
      "cell_type": "code",
      "source": [],
      "metadata": {
        "id": "VahMZTBugfId"
      },
      "execution_count": null,
      "outputs": []
    }
  ]
}